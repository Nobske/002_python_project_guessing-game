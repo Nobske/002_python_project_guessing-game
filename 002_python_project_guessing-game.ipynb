{
 "cells": [
  {
   "cell_type": "markdown",
   "metadata": {},
   "source": [
    "## Guessing Game"
   ]
  },
  {
   "cell_type": "code",
   "execution_count": 1,
   "metadata": {},
   "outputs": [],
   "source": [
    "import random"
   ]
  },
  {
   "cell_type": "code",
   "execution_count": 2,
   "metadata": {},
   "outputs": [],
   "source": [
    "def guessing_game():\n",
    "    game_number = random.randint(1, 42)\n",
    "    \n",
    "    guess_number = int(input(\"Please enter your guessing number\"))\n",
    "    \n",
    "    while True:\n",
    "        if guess_number == game_number:\n",
    "            print(\"Good Job!\")\n",
    "            break\n",
    "        elif guess_number > 42:\n",
    "            print(\"The number you are searching for is below 42\")\n",
    "            guess_number = int(input(\"Please enter your guessing number \"))\n",
    "        elif guess_number > game_number:\n",
    "            print(\"Too hot\")\n",
    "            guess_number = int(input(\"Please enter your guessing number \"))\n",
    "        elif guess_number < game_number:\n",
    "            print(\"Too cold\")\n",
    "            guess_number = int(input(\"Please enter your guessing number \"))\n",
    "        \n",
    "    "
   ]
  },
  {
   "cell_type": "code",
   "execution_count": 3,
   "metadata": {},
   "outputs": [
    {
     "name": "stdout",
     "output_type": "stream",
     "text": [
      "Please enter your guessing number55\n",
      "The number you are searching for is below 42\n",
      "Please enter your guessing number10\n",
      "Too cold\n",
      "Please enter your guessing number20\n",
      "Too cold\n",
      "Please enter your guessing number30\n",
      "Too hot\n",
      "Please enter your guessing number25\n",
      "Too cold\n",
      "Please enter your guessing number26\n",
      "Too cold\n",
      "Please enter your guessing number27\n",
      "Too cold\n",
      "Please enter your guessing number28\n",
      "Too cold\n",
      "Please enter your guessing number29\n",
      "Good Job!\n",
      "None\n"
     ]
    }
   ],
   "source": [
    "print(guessing_game())"
   ]
  },
  {
   "cell_type": "code",
   "execution_count": null,
   "metadata": {},
   "outputs": [],
   "source": []
  },
  {
   "cell_type": "code",
   "execution_count": null,
   "metadata": {},
   "outputs": [],
   "source": []
  }
 ],
 "metadata": {
  "kernelspec": {
   "display_name": "Python 3",
   "language": "python",
   "name": "python3"
  },
  "language_info": {
   "codemirror_mode": {
    "name": "ipython",
    "version": 3
   },
   "file_extension": ".py",
   "mimetype": "text/x-python",
   "name": "python",
   "nbconvert_exporter": "python",
   "pygments_lexer": "ipython3",
   "version": "3.6.5"
  }
 },
 "nbformat": 4,
 "nbformat_minor": 2
}
